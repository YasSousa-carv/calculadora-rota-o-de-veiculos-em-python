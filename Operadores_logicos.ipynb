{
  "nbformat": 4,
  "nbformat_minor": 0,
  "metadata": {
    "colab": {
      "provenance": [],
      "authorship_tag": "ABX9TyMNj07CO4PHWoHywAdZSWok",
      "include_colab_link": true
    },
    "kernelspec": {
      "name": "python3",
      "display_name": "Python 3"
    },
    "language_info": {
      "name": "python"
    }
  },
  "cells": [
    {
      "cell_type": "markdown",
      "metadata": {
        "id": "view-in-github",
        "colab_type": "text"
      },
      "source": [
        "<a href=\"https://colab.research.google.com/github/YasSousa-carv/calculadora-rota-o-de-veiculos-em-python/blob/main/Operadores_logicos.ipynb\" target=\"_parent\"><img src=\"https://colab.research.google.com/assets/colab-badge.svg\" alt=\"Open In Colab\"/></a>"
      ]
    },
    {
      "cell_type": "code",
      "execution_count": null,
      "metadata": {
        "colab": {
          "base_uri": "https://localhost:8080/"
        },
        "id": "kDgHaycRRXx8",
        "outputId": "9731c969-4c5b-48fd-ac1a-1aaf15ad05dc"
      },
      "outputs": [
        {
          "output_type": "stream",
          "name": "stdout",
          "text": [
            "Digite um número:13\n",
            "True\n"
          ]
        }
      ],
      "source": [
        "numero = int(input(\"Digite um número:\"))\n",
        "if numero >= 10 and numero <=20 :\n",
        "   print(True)\n",
        "else:\n",
        "   print(False)"
      ]
    },
    {
      "cell_type": "code",
      "source": [
        "Idade = int(input(\"Qual a sua idade?\"))\n",
        "Permissão = input(\"S/N\")\n",
        "if Idade >= 18 and Permissão == \"S\":\n",
        "   print(\"Pode assistir o filme\")\n",
        "else:\n",
        "   print(\"Não pode assistir o filme\")"
      ],
      "metadata": {
        "colab": {
          "base_uri": "https://localhost:8080/"
        },
        "id": "6iyDv85YYdSc",
        "outputId": "f4494e77-ab0b-4647-f318-b31e8d0617af"
      },
      "execution_count": null,
      "outputs": [
        {
          "output_type": "stream",
          "name": "stdout",
          "text": [
            "Qual a sua idade?16\n",
            "S/NS\n",
            "Não pode assistir o filme\n"
          ]
        }
      ]
    },
    {
      "cell_type": "code",
      "source": [
        "numero_1 = int(input(\"Digite um número \"))\n",
        "numero_2 = 2\n",
        "resto = numero_1%numero_2\n",
        "if resto == 1 and numero_1 > 0:\n",
        "   print(\"O número é ímpar e positivo\")\n",
        "else:\n",
        "   print(\"O número é par e negativo\")"
      ],
      "metadata": {
        "id": "5cUt4VXwZZmF",
        "colab": {
          "base_uri": "https://localhost:8080/"
        },
        "outputId": "387734bb-8ad4-4916-aff8-7a88ea8d8c6a"
      },
      "execution_count": null,
      "outputs": [
        {
          "output_type": "stream",
          "name": "stdout",
          "text": [
            "Digite um número 5\n",
            "O número é ímpar e positivo\n"
          ]
        }
      ]
    },
    {
      "cell_type": "code",
      "source": [
        "lado_1 = int(input(\"Valor de lado_1: \"))\n",
        "lado_2 = int(input(\"Valor de lado_2: \"))\n",
        "lado_3 = int(input(\"Valor de lado_3: \"))\n",
        "\n",
        "equilatero = lado_1 == lado_2 == lado_3\n",
        "escaleno = lado_1 != lado_2 != lado_3 != lado_1\n",
        "isosceles = lado_1 == lado_2 !=lado_3\n",
        "isosceles_1 = lado_1 != lado_2 == lado_3\n",
        "isosceles_2 = lado_1 == lado_3 != lado_2\n",
        "print(equilatero)\n",
        "print(escaleno)\n",
        "print(isosceles)\n",
        "print(isosceles_1)\n",
        "print(isosceles_2)"
      ],
      "metadata": {
        "id": "b8nM8YDmbN-s",
        "colab": {
          "base_uri": "https://localhost:8080/"
        },
        "outputId": "dcf38728-e1f8-48fa-9707-fa3f6a1d7902"
      },
      "execution_count": null,
      "outputs": [
        {
          "output_type": "stream",
          "name": "stdout",
          "text": [
            "Valor de lado_1: 6\n",
            "Valor de lado_2: 9\n",
            "Valor de lado_3: 6\n",
            "False\n",
            "False\n",
            "False\n",
            "False\n",
            "True\n"
          ]
        }
      ]
    },
    {
      "cell_type": "code",
      "source": [
        "ultimo_numero = int(input(\"Digite o ultimo número da placa: \"))\n",
        "if ultimo_numero == 1 or ultimo_numero == 2:\n",
        "  print('Seu carro só pode circular na segunda-feira')\n",
        "elif ultimo_numero == 3 or ultimo_numero == 4:\n",
        "  print('Seu carro só pode circular na terça-feira')\n",
        "elif ultimo_numero == 5 or ultimo_numero == 6:\n",
        "  print('Seu carro só pode circular na quarta-feira')\n",
        "elif ultimo_numero == 7 or ultimo_numero == 8:\n",
        "  print('Seu carro só pode circular na quinta-feira')\n",
        "elif ultimo_numero == 9 or ultimo_numero == 0:\n",
        "  print('Seu carro só pode circular na sexta-feira')\n",
        "else:\n",
        "  print('Houve algum erro!Por favor refaça a solicitação, digitalizando apenas um algoritmo.')"
      ],
      "metadata": {
        "colab": {
          "base_uri": "https://localhost:8080/"
        },
        "id": "G01O4MaOx1PA",
        "outputId": "40aef98c-1be0-4837-f18d-b86cbe342f36"
      },
      "execution_count": null,
      "outputs": [
        {
          "output_type": "stream",
          "name": "stdout",
          "text": [
            "Digite o ultimo número da placa: 7\n",
            "Seu carro só pode circular na quinta-feira\n"
          ]
        }
      ]
    }
  ]
}