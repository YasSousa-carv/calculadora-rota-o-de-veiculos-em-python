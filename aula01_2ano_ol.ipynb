{
  "nbformat": 4,
  "nbformat_minor": 0,
  "metadata": {
    "colab": {
      "provenance": [],
      "authorship_tag": "ABX9TyPla45F2XQkhDV7Nh5tHExK",
      "include_colab_link": true
    },
    "kernelspec": {
      "name": "python3",
      "display_name": "Python 3"
    },
    "language_info": {
      "name": "python"
    }
  },
  "cells": [
    {
      "cell_type": "markdown",
      "metadata": {
        "id": "view-in-github",
        "colab_type": "text"
      },
      "source": [
        "<a href=\"https://colab.research.google.com/github/YasSousa-carv/calculadora-rota-o-de-veiculos-em-python/blob/main/aula01_2ano_ol.ipynb\" target=\"_parent\"><img src=\"https://colab.research.google.com/assets/colab-badge.svg\" alt=\"Open In Colab\"/></a>"
      ]
    },
    {
      "cell_type": "code",
      "source": [
        "#Calculadora Simples\n",
        "print(\"selecione a operação desejada:\")\n",
        "print(\"1.adição\")\n",
        "print(\"2.subtração\")\n",
        "print(\"3.multiplicação\")\n",
        "print(\"4.divisão\")\n",
        "\n",
        "opcao = input(\"Digite o numero da operação:1/2/3/4:\")\n",
        "\n",
        "numero1 = float(input(\"digite o primeiro numero: \"))\n",
        "numero2 = float(input(\"digite o segundo numero: \"))\n",
        "\n",
        "if opcao == '1':\n",
        "  resultado = numero1 + numero2\n",
        "  print(\"resultado\",resultado)\n",
        "elif opcao == '2':\n",
        "  resultado = numero1 - numero2\n",
        "  print(\"resultado\",resultado)\n",
        "elif opcao == '3':\n",
        "  resultado = numero1 * numero2\n",
        "  print(\"resultado\",resultado)\n",
        "elif opcao == '4':\n",
        "  if numero2 !=0:\n",
        "    resultado = numero1 / numero2\n",
        "    print(\"resultado\",resultado)\n",
        "  else:\n",
        "    print(\"Erro!Divisão por zero!\")\n",
        "else:\n",
        "  print(\"opção inválida, por favor escolha uma opçao valida\")"
      ],
      "metadata": {
        "id": "HohuCqghH002",
        "colab": {
          "base_uri": "https://localhost:8080/"
        },
        "outputId": "ae35545c-81f1-44d8-f791-e60ad8588ea8"
      },
      "execution_count": 10,
      "outputs": [
        {
          "output_type": "stream",
          "name": "stdout",
          "text": [
            "selecione a operação desejada:\n",
            "1.adição\n",
            "2.subtração\n",
            "3.multiplicação\n",
            "4.divisão\n",
            "Digite o numero da operação:1/2/3/4:4\n",
            "digite o primeiro numero: 3\n",
            "digite o segundo numero: 6\n",
            "resultado 0.5\n"
          ]
        }
      ]
    },
    {
      "cell_type": "code",
      "source": [
        "ultimo_digito = float(input(\"Digite o ultimo digito da placa: \"))\n",
        "if ultimo_digito == 1 or ultimo_digito == 2:\n",
        "  print(\"O carro só pode circular na segunda-feira\")\n",
        "elif ultimo_digito == 3 or ultimo_digito == 4:\n",
        "  print(\"O carro só pode circular na terça-feira\")\n",
        "elif ultimo_digito == 5 or ultimo_digito == 6:\n",
        "  print(\"O carro só pode circular na quarta-feira\")\n",
        "elif ultimo_digito == 7 or ultimo_digito == 8:\n",
        "  print(\"O carro só pode circular na quinta-feira\")\n",
        "elif ultimo_digito == 9 or ultimo_digito == 0:\n",
        "  print(\"O carro só pode circular na sexta-feira\")\n",
        "else:\n",
        "  print(\"Erro!\")"
      ],
      "metadata": {
        "colab": {
          "base_uri": "https://localhost:8080/"
        },
        "id": "Yvfas9ilriHp",
        "outputId": "1a9c31d3-7646-4933-d4d4-71ea5c981fdc"
      },
      "execution_count": 11,
      "outputs": [
        {
          "output_type": "stream",
          "name": "stdout",
          "text": [
            "Digite o ultimo digito da placa: 9\n",
            "O carro só pode circular na sexta-feira\n"
          ]
        }
      ]
    }
  ]
}