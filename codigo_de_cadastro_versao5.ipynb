{
  "nbformat": 4,
  "nbformat_minor": 0,
  "metadata": {
    "colab": {
      "provenance": [],
      "include_colab_link": true
    },
    "kernelspec": {
      "name": "python3",
      "display_name": "Python 3"
    },
    "language_info": {
      "name": "python"
    }
  },
  "cells": [
    {
      "cell_type": "markdown",
      "metadata": {
        "id": "view-in-github",
        "colab_type": "text"
      },
      "source": [
        "<a href=\"https://colab.research.google.com/github/YasSousa-carv/calculadora-rota-o-de-veiculos-em-python/blob/main/codigo_de_cadastro_versao5.ipynb\" target=\"_parent\"><img src=\"https://colab.research.google.com/assets/colab-badge.svg\" alt=\"Open In Colab\"/></a>"
      ]
    },
    {
      "cell_type": "code",
      "execution_count": 8,
      "metadata": {
        "colab": {
          "base_uri": "https://localhost:8080/"
        },
        "id": "B3nXRO_1Gcgx",
        "outputId": "8d33a103-fc8c-452c-bff4-c728bb796c55"
      },
      "outputs": [
        {
          "output_type": "stream",
          "name": "stdout",
          "text": [
            "Digite seu login: yasmimcarvalho\n",
            "Digite sua senha de acesso:cevol\n",
            "você não está cadastrado\n"
          ]
        }
      ],
      "source": [
        "acesso = str(input('Digite seu login: '))\n",
        "senha_de_acesso = str(input('Digite sua senha de acesso:'))\n",
        "login = ('yasmimcarvalho')\n",
        "senha = ('cev_ol')\n",
        "\n",
        "if acesso == login and senha_de_acesso == senha:\n",
        "  print('você está cadastradado.')\n",
        "  print('Bem vindo ao site do colégio Manhã Ensolarada!Como posso ajuda-lo? ')\n",
        "  print('1.Cadastro direto')\n",
        "  print('2.Cadastro de professor')\n",
        "  print('3.Cadastro de aluno')\n",
        "  print('4.Calculadora')\n",
        "\n",
        "  opcao = int(input('Escolha entre as seguintes opções de cadastro para que eu possa lhe ajudar: 1/2/3/4: '))\n",
        "\n",
        "  if opcao == 1:\n",
        "   usuario = (input('Digite seu nome de usuario: '))\n",
        "   senha_p = (input('Digite sua senha: '))\n",
        "   tipo_id = (input('Digite seu ID: '))\n",
        "   print(usuario)\n",
        "   print(senha_p)\n",
        "   print(tipo_id)\n",
        "  elif opcao == 2:\n",
        "   cadastro_prof = (input('Digite seu cadastro de professor: '))\n",
        "   senha_pr = (input('Digite a senha do cadastro: '))\n",
        "   materia_lecionada = (input('Digite a materia lecionada: '))\n",
        "   id_profissional = (input('Digite seu ID profissional: '))\n",
        "   print(cadastro_prof)\n",
        "   print(senha_pr)\n",
        "   print(materia_lecionada)\n",
        "  elif opcao == 3:\n",
        "   cadastro_aluno = input('Digite seu cadastro de aluno: ')\n",
        "   ano_estudo = input('Digite seu ano de estudo: ')\n",
        "   senha_a = input('Digite a senha de seu cadastro: ')\n",
        "   materia_estudada = input('Escolha a matéria de estudo: ')\n",
        "   print(cadastro_aluno)\n",
        "   print(ano_estudo)\n",
        "   print(senha_a)\n",
        "  elif opcao == 4:\n",
        "   print('1.Adição')\n",
        "   print(\"2.subtração\")\n",
        "   print(\"3.multiplicação\")\n",
        "   print(\"4.divisão\")\n",
        "\n",
        "   opcao = int(input(\"Digite o numero da operação:1/2/3/4: \"))\n",
        "\n",
        "   numero1 = float(input(\"digite o primeiro numero: \"))\n",
        "   numero2 = float(input(\"digite o segundo numero: \"))\n",
        "\n",
        "   if opcao == 1:\n",
        "      resultado = numero1+numero2\n",
        "      print(resultado)\n",
        "   elif opcao == 2:\n",
        "     resultado = numero1-numero2\n",
        "     print(resultado)\n",
        "   elif opcao == 3:\n",
        "     resultado = numero1*numero2\n",
        "     print(resultado)\n",
        "   elif opcao == 4:\n",
        "       if numero2 != 0:\n",
        "         resultado = numero1/numero2\n",
        "         print(resultado)\n",
        "       else:\n",
        "        print('Essa divisão não pode ser divida por zero.')\n",
        "   else:\n",
        "     print('Houve algum erro')\n",
        "\n",
        "  else:\n",
        "   print('Não existe essa opção de cadastro')\n",
        "else:\n",
        "  print('você não está cadastrado')"
      ]
    }
  ]
}