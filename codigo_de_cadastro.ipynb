{
  "nbformat": 4,
  "nbformat_minor": 0,
  "metadata": {
    "colab": {
      "provenance": [],
      "authorship_tag": "ABX9TyNfbeXjvOeP4Qd9w/C7sSj3",
      "include_colab_link": true
    },
    "kernelspec": {
      "name": "python3",
      "display_name": "Python 3"
    },
    "language_info": {
      "name": "python"
    }
  },
  "cells": [
    {
      "cell_type": "markdown",
      "metadata": {
        "id": "view-in-github",
        "colab_type": "text"
      },
      "source": [
        "<a href=\"https://colab.research.google.com/github/YasSousa-carv/calculadora-rota-o-de-veiculos-em-python/blob/main/codigo_de_cadastro.ipynb\" target=\"_parent\"><img src=\"https://colab.research.google.com/assets/colab-badge.svg\" alt=\"Open In Colab\"/></a>"
      ]
    },
    {
      "cell_type": "code",
      "execution_count": 28,
      "metadata": {
        "colab": {
          "base_uri": "https://localhost:8080/"
        },
        "id": "B3nXRO_1Gcgx",
        "outputId": "eb252ef7-7da6-428d-e70b-7babe11950f7"
      },
      "outputs": [
        {
          "output_type": "stream",
          "name": "stdout",
          "text": [
            "Digite seu login: yasmimcarvalho\n",
            "Digite sua senha de acesso:cev_ol\n",
            "Bem vindo ao site do colégio Manhã Ensolarada!Como posso ajuda-lo? \n",
            "1.Cadastro direto\n",
            "2.Cadastro de professor\n",
            "3.Cadastro de aluno\n",
            "4.Calculadora\n",
            "Escolha entre as seguintes opções de cadastro para que eu possa lhe ajudar: 1/2/3/4: 1\n",
            "Digite seu nome de usuario: Y3smim\n",
            "Digite sua senha: 34542\n",
            "Digite seu ID: 38776045\n",
            "Digite o numero da operação:1/2/3/4: 3\n",
            "digite o primeiro numero: 3\n",
            "digite o segundo numero: 2\n",
            "resultado da operação é  2.0\n"
          ]
        }
      ],
      "source": [
        "login = ('yasmimcarvalho')\n",
        "senha = ('cev_ol')\n",
        "\n",
        "acesso = str(input('Digite seu login: '))\n",
        "senha_de_acesso = str(input('Digite sua senha de acesso:'))\n",
        "if acesso == login and senha_de_acesso == senha:\n",
        "  print('Bem vindo ao site do colégio Manhã Ensolarada!Como posso ajuda-lo? ')\n",
        "  print('1.Cadastro direto')\n",
        "  print('2.Cadastro de professor')\n",
        "  print('3.Cadastro de aluno')\n",
        "  print('4.Calculadora')\n",
        "else:\n",
        "  print('Você não está cadastrado.')\n",
        "\n",
        "opcao = int(input('Escolha entre as seguintes opções de cadastro para que eu possa lhe ajudar: 1/2/3/4: '))\n",
        "\n",
        "if opcao == 1:\n",
        "  usuario = (input('Digite seu nome de usuario: '))\n",
        "  senha_p = (input('Digite sua senha: '))\n",
        "  tipo_id = (input('Digite seu ID: '))\n",
        "elif opcao == 2:\n",
        " cadastro_prof = (input('Digite seu cadastro de professor: '))\n",
        " senha_p = (input('Digite a senha do cadastro: '))\n",
        " materia_lecionada = (input('Digite a materia lecionada: '))\n",
        " id_profissional = (input('Digite seu ID profissional: '))\n",
        "elif opcao == 3:\n",
        " cadastro_aluno = input('Digite seu cadastro de aluno: ')\n",
        " ano_estudo = input('Digite seu ano de estudo: ')\n",
        " senha_a = input('Digite a senha de seu cadastro: ')\n",
        " materia_estudada = input('Escolha a matéria de estudo: ')\n",
        "elif opcao == 4:\n",
        " print('1.Adição')\n",
        " print(\"2.subtração\")\n",
        " print(\"3.multiplicação\")\n",
        " print(\"4.divisão\")\n",
        "\n",
        "opcao = int(input(\"Digite o numero da operação:1/2/3/4: \"))\n",
        "\n",
        "numero1 = float(input(\"digite o primeiro numero: \"))\n",
        "numero2 = float(input(\"digite o segundo numero: \"))\n",
        "\n",
        "if opcao == '1':\n",
        "  resultado = numero1+numero2\n",
        "elif opcao == '2':\n",
        "  resultado = numero1-numero2\n",
        "elif opcao == '3':\n",
        "  resultado = numero1*numero2\n",
        "elif opcao == '4' and numero2 > 0:\n",
        "    resultado = numero1/numero2\n",
        "\n",
        "execucao_resultado = resultado\n",
        "print('resultado da operação é ', execucao_resultado)\n",
        "print(usuario)"
      ]
    }
  ]
}