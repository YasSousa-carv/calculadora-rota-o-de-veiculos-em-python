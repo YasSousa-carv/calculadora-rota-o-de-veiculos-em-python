{
  "nbformat": 4,
  "nbformat_minor": 0,
  "metadata": {
    "colab": {
      "provenance": [],
      "authorship_tag": "ABX9TyMo5HrhUGM2dbLgyX1Oz2w4",
      "include_colab_link": true
    },
    "kernelspec": {
      "name": "python3",
      "display_name": "Python 3"
    },
    "language_info": {
      "name": "python"
    }
  },
  "cells": [
    {
      "cell_type": "markdown",
      "metadata": {
        "id": "view-in-github",
        "colab_type": "text"
      },
      "source": [
        "<a href=\"https://colab.research.google.com/github/YasSousa-carv/calculadora-rota-o-de-veiculos-em-python/blob/main/M%C3%A9todos_de_Interpola%C3%A7%C3%A3oipynb.ipynb\" target=\"_parent\"><img src=\"https://colab.research.google.com/assets/colab-badge.svg\" alt=\"Open In Colab\"/></a>"
      ]
    },
    {
      "cell_type": "code",
      "execution_count": 1,
      "metadata": {
        "colab": {
          "base_uri": "https://localhost:8080/"
        },
        "id": "oW1SvFHVJQos",
        "outputId": "86e37bd7-4bbf-4219-86c1-3a02c9493f98"
      },
      "outputs": [
        {
          "output_type": "stream",
          "name": "stdout",
          "text": [
            "Olá,meu nome é Yasmim e tenho 16\n"
          ]
        }
      ],
      "source": [
        "nome = 'Yasmim'\n",
        "idade = 16\n",
        "\n",
        "frase = print('Olá,meu nome é {} e tenho {}'.format(nome,idade))"
      ]
    },
    {
      "cell_type": "code",
      "source": [
        "frase = \"{1}, {0}, {2}\".format(\"primeiro\",\"segundo\",\"terceiro\")\n",
        "print(frase)"
      ],
      "metadata": {
        "colab": {
          "base_uri": "https://localhost:8080/"
        },
        "id": "GZJ8L-VhKfXS",
        "outputId": "d3324221-0fd0-4956-bfa8-88b18270c6fc"
      },
      "execution_count": 3,
      "outputs": [
        {
          "output_type": "stream",
          "name": "stdout",
          "text": [
            "segundo, primeiro, terceiro\n"
          ]
        }
      ]
    },
    {
      "cell_type": "code",
      "source": [
        "frase = \"Meu nome é {nome} e tenho {idade}\".format(nome= \"Yasmim\", idade =16)\n",
        "print(frase)"
      ],
      "metadata": {
        "colab": {
          "base_uri": "https://localhost:8080/"
        },
        "id": "LAI8HhyjLl7Q",
        "outputId": "9ba9e0c5-bb02-40c0-8210-6fa4690be345"
      },
      "execution_count": 5,
      "outputs": [
        {
          "output_type": "stream",
          "name": "stdout",
          "text": [
            "Meu nome é Yasmim e tenho 16\n"
          ]
        }
      ]
    },
    {
      "cell_type": "code",
      "source": [
        "n_inteiro = 42\n",
        "n_ponto_flutuante = 3.786\n",
        "\n",
        "frase= \"Numero inteiro {:d},numero de ponto flutuante {:.2f}\".format(n_inteiro,n_ponto_flutuante)\n",
        "print(frase)"
      ],
      "metadata": {
        "colab": {
          "base_uri": "https://localhost:8080/"
        },
        "id": "V9tFszBpNyI_",
        "outputId": "d62e8570-57bc-4d2e-8242-f957821ea955"
      },
      "execution_count": 10,
      "outputs": [
        {
          "output_type": "stream",
          "name": "stdout",
          "text": [
            "Numero inteiro 42,numero de ponto flutuante 3.79\n"
          ]
        }
      ]
    }
  ]
}